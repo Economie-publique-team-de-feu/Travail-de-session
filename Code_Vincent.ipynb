{
 "cells": [
  {
   "cell_type": "markdown",
   "metadata": {},
   "source": [
    "# Offre de travail\n",
    "\n",
    "L'objectif ici est d'étudier les effets de changements dans la fiscalité du travail sur l'offre de travail des individus. Les données utilisées sont tirées du Labour Force Survey pour la province de Québec."
   ]
  },
  {
   "cell_type": "markdown",
   "metadata": {},
   "source": [
    "Les variables globales sont définies pour le moment, elles seront discutées de manière plus détaillée par la suite.\n",
    "- *Lmax* est le nombre maximal d'heures travaillées par année.\n",
    "- *weeks* est le nombre de semaines de travail par année.\n",
    "- *lincr* est le nombre minimal d'heures annuelles de travail que l'individu peut ajuster."
   ]
  },
  {
   "cell_type": "code",
   "execution_count": 1,
   "metadata": {},
   "outputs": [
    {
     "data": {
      "text/html": [
       "3"
      ],
      "text/latex": [
       "3"
      ],
      "text/markdown": [
       "3"
      ],
      "text/plain": [
       "[1] 3"
      ]
     },
     "metadata": {},
     "output_type": "display_data"
    }
   ],
   "source": [
    "library(readr) # package pour lire les .csv\n",
    "library(compiler) # package pour le Just-in-time compilation\n",
    "enableJIT(3) # Option du package compiler\n",
    "set.seed(123) # résultats répliquables!\n",
    "Lmax <- 4250\n",
    "weeks <- 50\n",
    "lincr <- 250"
   ]
  },
  {
   "cell_type": "markdown",
   "metadata": {},
   "source": [
    "Pour cette analyse, nous allons utiliser les données du *Labour Force Survey* pour la province de Québec (*PROV=24*). Pour cet exemple, je me concentre uniquement sur quelques variables explicatives. Quelques détails sur le code plus bas:\n",
    "- La commande *complete.case* enlève les valeurs manquantes\n",
    "- *n* est le nombre d'individus\n",
    "- *wage* est le salaire horaire habituel déclaré pour chaque individu\n",
    "- *Xmat* est la matrice des characteristiques individuelles\n",
    "- *theta* est un vecteur de paramètres à estimer\n",
    "- *alpha* est le vecteur (impliqué par *theta*) des préférences individuelles."
   ]
  },
  {
   "cell_type": "markdown",
   "metadata": {},
   "source": [
    "### Load Data\n",
    "\n",
    "Le code suivant est pour charger les données sur MS Azur:"
   ]
  },
  {
   "cell_type": "code",
   "execution_count": 2,
   "metadata": {},
   "outputs": [],
   "source": [
    "#library(\"AzureML\")\n",
    "\n",
    "#ws <- workspace(\n",
    "#  id = \"9170bb487fa84fdebd6c14f8cc8a5996\",\n",
    "#  auth = \"kki57C9hpdShdv7pdcVNNw/A2+4XkDeFkRM86/cxhdlIrpxQdRttTWaLpe88HOAaYl5pwg0BV3Zq8L+tO5a/vg==\",\n",
    "#  api_endpoint = \"https://studioapi.azureml.net\"\n",
    "#)\n",
    "#ds <- download.datasets(\n",
    "#  dataset = ws,\n",
    "#  name = \"lfs-71M0001-E-2018-may_F1.csv\"\n",
    "#)\n",
    "#head(ds)"
   ]
  },
  {
   "cell_type": "markdown",
   "metadata": {},
   "source": [
    "### Suite..."
   ]
  },
  {
   "cell_type": "code",
   "execution_count": 3,
   "metadata": {
    "scrolled": true
   },
   "outputs": [
    {
     "data": {
      "text/plain": [
       "       V1          V2               V3              V4             wage      \n",
       " Min.   :1   Min.   : 1.000   Min.   :0.000   Min.   :0.000   Min.   : 5.00  \n",
       " 1st Qu.:1   1st Qu.: 4.000   1st Qu.:0.000   1st Qu.:3.000   1st Qu.:17.00  \n",
       " Median :1   Median : 6.000   Median :1.000   Median :4.000   Median :24.00  \n",
       " Mean   :1   Mean   : 5.745   Mean   :0.519   Mean   :3.675   Mean   :27.30  \n",
       " 3rd Qu.:1   3rd Qu.: 8.000   3rd Qu.:1.000   3rd Qu.:5.000   3rd Qu.:34.53  \n",
       " Max.   :1   Max.   :12.000   Max.   :1.000   Max.   :6.000   Max.   :86.54  "
      ]
     },
     "metadata": {},
     "output_type": "display_data"
    }
   ],
   "source": [
    "lfs <- read_csv(\"./LFS-71M0001-E-2020-February_F1.csv\", col_types = cols()) # importe les données du LFS, May 2018\n",
    "#lfs <- ds\n",
    "lfsqc <- lfs[lfs$PROV==24,] # garde uniquement le Québec\n",
    "rm(lfs) # supprime la base initiale de la mémoire\n",
    "lfsqc <- lfsqc[,c(\"AGE_12\",\"SEX\",\"EDUC\",\"ATOTHRS\",\"HRLYEARN\",\"FINALWT\")] # garde seulement certaines variables\n",
    "n0 <- nrow(lfsqc) # garde le nombre d'observations initiales\n",
    "missingweight <- c(lfsqc[!complete.cases(lfsqc),\"FINALWT\"])[[1]] #garde les poids des individus qui seront enlevés\n",
    "lfsqc <- lfsqc[complete.cases(lfsqc), ] # enlève les observations avec des variables manquantes\n",
    "lfsqc <- lfsqc[sample(1:nrow(lfsqc), 1000, replace=FALSE),] # sous-échantillonage pour les tests (à commenter pour l'analyse finale)\n",
    "n <- nrow(lfsqc) # nombre d'individus dans la base\n",
    "wage <- as.numeric(lfsqc$HRLYEARN) # salaire horaire\n",
    "Xmat <- matrix(c(lfsqc$AGE_12,lfsqc$SEX,lfsqc$EDUC),n,3) # matrice des variables explicatives\n",
    "Xmat <- matrix(c(rep(1,n),Xmat),n,4) # ajoute une constante\n",
    "k <- 4 # nombre de variables explicatives (incluant la constante)\n",
    "Xmat[,3] <- as.numeric(Xmat[,3]==2) # recode la variable \"sex\": 1=femme, 0=homme\n",
    "corfact <- sum(lfsqc$FINALWT)/(sum(lfsqc$FINALWT)+sum(missingweight))\n",
    "wght <- as.numeric(lfsqc$FINALWT)/corfact # calcule les poids approximatifs (les val. manquantes sont parfaitement aléatoires)\n",
    "\n",
    "summary(cbind(Xmat,wage)) # résumé des variables"
   ]
  },
  {
   "cell_type": "markdown",
   "metadata": {},
   "source": [
    "Nous allons aussi utiliser les taux de taxe et paliers suivants:"
   ]
  },
  {
   "cell_type": "code",
   "execution_count": 4,
   "metadata": {},
   "outputs": [],
   "source": [
    "  # source1: http://www.nrgcpa.ca/deductions-a-la-source-et-charges-sociales\n",
    "  # source2: http://www4.gouv.qc.ca/FR/Portail/Citoyens/Evenements/immigrer-au-quebec/Pages/programme-aide-sociale.aspx\n",
    "\n",
    "  # taux de taxe QC\n",
    "  pp1 <- 0.15\n",
    "  pp2 <- 0.2\n",
    "  pp3 <- 0.24\n",
    "  pp4 <- 0.2575\n",
    "\n",
    "  # seuils de taxation QC\n",
    "  p1 <- 15012\n",
    "  p2 <- 43055\n",
    "  p3 <- 86105\n",
    "  p4 <- 104765\n",
    "\n",
    "  # taux de taxe CAN\n",
    "  pt1 <- 0.1253\n",
    "  pt2 <- 0.1712\n",
    "  pt3 <- 0.2171\n",
    "  pt4 <- 0.2422\n",
    "  pt5 <- 0.2756\n",
    "\n",
    "  # seuils de taxation CAN\n",
    "  f1 <- 11809\n",
    "  f2 <- 46605\n",
    "  f3 <- 93208\n",
    "  f4 <- 144489\n",
    "  f5 <- 205842\n",
    "\n",
    "  as <- 1 # =1 programme aide sociale, =0 si enlève aide sociale"
   ]
  },
  {
   "cell_type": "markdown",
   "metadata": {},
   "source": [
    "Les préférences sont représentées par une fonction d'utilité de type log-log:\n",
    "\n",
    "$$ U(C,L) = \\alpha_i\\ln(\\bar{L}-L) + \\ln(C) + v_0(L=0) + v_f(L\\in[1750,2000])$$\n",
    "\n",
    "où $C$ est la consommation (i.e. le revenu disponible) et $L$ est la quantité de travail (annuelle, en heures). La fonction $v_0$ permet d'inclure des coûts fixes au travail alors que la fonction $v_f$ permet de mettre une rigidité au travail à temps plein.\n",
    "\n",
    "Le code R associé est donné par la fonction suivante:"
   ]
  },
  {
   "cell_type": "code",
   "execution_count": 5,
   "metadata": {},
   "outputs": [],
   "source": [
    "Utilite <- function(i,L,alpha,theta){\n",
    "  # Fonction d'utilité du travail et de la consommation\n",
    "      util <- alpha[i]*log(Lmax-L)+log(Cnet(i,L)) + theta[k+2]*as.numeric(L==2000) + theta[k+3]*as.numeric(L==0)\n",
    "  return(util)\n",
    "}"
   ]
  },
  {
   "cell_type": "markdown",
   "metadata": {},
   "source": [
    "L'utilité est donnée par une fonction qui prend comme argument l'individu *i*, le nombre d'heures travaillées *L* et le vecteur de caractéristiques individuelles *alpha*. *Lmax* est le nombre d'heures travaillées maximales. La consommation (ou revenu disponible) est une fonction de l'individu *i* et du nombre travaillé et est donnée par la contrainte budgétaire:\n",
    "\n",
    "$$\n",
    "w_iL-t(w_iL)\\geq C\n",
    "$$\n",
    "\n",
    "qui sera saturée à l'optimum. Remarquez que la taxe est ici en général une fonction non-linéaire et que le salaire de l'individu $w_i$ peut être différent d'un individu à l'autre. Le code R associé à la contrainte budgétaire est donné par:"
   ]
  },
  {
   "cell_type": "code",
   "execution_count": 6,
   "metadata": {},
   "outputs": [],
   "source": [
    "Cnet <- function(i,L){\n",
    "  # Calcule la consommation nette (revenu disponible)\n",
    "  dispo <- L*wage[i]-itax(L*wage[i])[1]\n",
    "  return(dispo)\n",
    "}"
   ]
  },
  {
   "cell_type": "markdown",
   "metadata": {},
   "source": [
    "La consommation est une fonction de l'individu *i* (son salaire) et du nombre d'heures travaillées *L*. La fonction dépend aussi de la taxation du revenu par la fonction *itax*. Cette fonction est donnée par le code suivant:"
   ]
  },
  {
   "cell_type": "code",
   "execution_count": 7,
   "metadata": {},
   "outputs": [],
   "source": [
    "itax <- function(inc){\n",
    "  # Calcule les impôts sur le revenu\n",
    "   \n",
    "  if (inc<=f1){\n",
    "    prv <- 0\n",
    "    fed <- 0\n",
    "  }\n",
    "  if (inc>f1 & inc<=p1){\n",
    "    prv <- 0\n",
    "    fed <- pt1*(inc-f1)\n",
    "  }\n",
    "  if (inc>p1 & inc<=p2){\n",
    "    prv <- pp1*(inc-p1)\n",
    "    fed <- pt1*(inc-f1)\n",
    "  }\n",
    "  else if (inc>p2 & inc<=f2){\n",
    "    prv <- pp1*(p2-p1) + pp2*(inc-p2)\n",
    "    fed <- pt1*(inc-f1)\n",
    "  }\n",
    "  else if (inc>f2 & inc<=p3){\n",
    "    prv <- pp1*(p2-p1) + pp2*(inc-p2)\n",
    "    fed <- pt1*(f2-f1) + pt2*(inc-f2)\n",
    "  }\n",
    "  else if (inc>p3 & inc<=f3){\n",
    "    prv <- pp1*(p2-p1) + pp2*(p3-p2) + pp3*(inc-p3)\n",
    "    fed <- pt1*(f2-f1) + pt2*(inc-f2)\n",
    "  }\n",
    "  else if (inc>f3 & inc<=p4){\n",
    "    prv <- pp1*(p2-p1) + pp2*(p3-p2) + pp3*(inc-p3)\n",
    "    fed <- pt1*(f2-f1) + pt2*(f3-f2) + pt3*(inc-f3)\n",
    "  }\n",
    "  else if (inc>p4 & inc<=f4){\n",
    "    prv <- pp1*(p2-p1) + pp2*(p3-p2) + pp3*(p4-p3) + pp4*(inc-p4)\n",
    "    fed <- pt1*(f2-f1) + pt2*(f3-f2) + pt3*(inc-f3)\n",
    "  }\n",
    "  else if (inc>f4 & inc<=f5){\n",
    "    prv <- pp1*(p2-p1) + pp2*(p3-p2) + pp3*(p4-p3) + pp4*(inc-p4)\n",
    "    fed <- pt1*(f2-f1) + pt2*(f3-f2) + pt3*(f4-f3) + pt4*(inc-f4)\n",
    "  }\n",
    "  else if (inc>f5){\n",
    "    prv <- pp1*(p2-p1) + pp2*(p3-p2) + pp3*(p4-p3) + pp4*(inc-p4)\n",
    "    fed <- pt1*(f2-f1) + pt2*(f3-f2) + pt3*(f4-f3) + pt4*(f5-f4) + pt5*(inc-f5)\n",
    "  }\n",
    "  aemploi <- min(51700,inc)*0.013\n",
    "  rrq <- 0 #max(min(55900,inc)-3500,0)*0.054\n",
    "  rqap <- min(74000,inc)*0.00548\n",
    "  \n",
    "  asociale <- max(648*12 - max(inc-200*12,0),0)*as\n",
    "  tax <-  prv + fed + aemploi + rrq + rqap - asociale\n",
    "  return(c(tax,prv,fed,aemploi,rrq,rqap,asociale))\n",
    "}"
   ]
  },
  {
   "cell_type": "markdown",
   "metadata": {},
   "source": [
    "Cette fonction de taxe prend en compte les paliers d'imposition fédéraux (*fed*) et québécois (*prv*), ainsi que les contributions à l'assurance emploi (*aemploi*), au RQAP (*rqap*) et, finalement, le programme d'aide sociale (*asociale*). Notez que la contribution au RRQ (*rrq*) est commentée puique cela dépend de l'hypothèse faite sur la substituabilité intertemporelle des individus.\n",
    "\n",
    "Notez qu'on peut directement voir l'impact de la fonction de taxe, sans hypothèses sur le comportement des individus en regardant les taux marginaux effectifs (TME) d'imposition. Le code suivant crée un graphique pour des incréments salariaux annuels de *incr* jusqu'à un revenu annuel de *imax*\\$"
   ]
  },
  {
   "cell_type": "code",
   "execution_count": 8,
   "metadata": {},
   "outputs": [
    {
     "data": {
      "image/png": "[encoded data removed]",
      "text/plain": [
       "plot without title"
      ]
     },
     "metadata": {},
     "output_type": "display_data"
    }
   ],
   "source": [
    "tme <- function(incr,imax){\n",
    "  # calcule les taux marginaux effectifs d'imposition, par incréments de \"incr\"$, jusqu'à imax$\n",
    "  incm <- seq(0,imax,by=incr) # vecteur des niveaux de revenus\n",
    "  tax <- sapply(incm,function(x) itax(x)[1]) # applique la taxe sur chaque niveau de revenu\n",
    "  tax2 <- c(tax[2:(length(tax))],0) # décale le taux de taxe\n",
    "  deltatax <- tax2-tax # taxe marginale\n",
    "  tm <- deltatax/incr # taux marginal effectif\n",
    "  plot(incm[1:length(incm)-1],tm[1:length(incm)-1],xlab='Revenu annuel', ylab='TME')\n",
    "  return(list(incm[1:length(incm)-1],tm[1:length(incm)-1]))\n",
    "}\n",
    "outtme <- tme(100,250000)"
   ]
  },
  {
   "cell_type": "markdown",
   "metadata": {},
   "source": [
    "Il est maintenant temps de maximiser l'utilité de l'individu. On peut substituer la contrainte budgétaire et obtenir:\n",
    "\n",
    "$$\n",
    "U(L)=\\alpha_i\\ln(\\bar{L}-L) + \\ln(w_iL-t(w_iL)) + v_0(L=0) + v_f(L\\in[1750,2000])\n",
    "$$\n",
    "\n",
    "En supposant (ce qui n'est pas le cas) que *L* est une variable continue et que $t(\\cdot)$ est différentiable (et en laissant $v_0=v_f=0$), on peut prendre les conditions de premier ordre et réécrire:\n",
    "\n",
    "$$\n",
    "\\frac{Loisir}{Consommation}=\\frac{\\alpha_i}{w_i(1-t'(w_iL))}\n",
    "$$\n",
    "\n",
    "On voit donc que le $\\alpha_i$ permet à deux individus ayant le même salaire horaire $w_i$ d'avoir des taux marginaux de substitution Consommation/Loisir différents.\n",
    "\n",
    "Ici, on suppose que l'individu a le choix d'ajuster ses heures de travail de façon discrète (des heures entières). Puisque ce sont des heures annuelles, ce n'est pas une hypothèse très forte. La fonction suivante évalue l'utilité pour différents choix d'heure de travail:"
   ]
  },
  {
   "cell_type": "code",
   "execution_count": 9,
   "metadata": {},
   "outputs": [],
   "source": [
    "umarginal <- function(i,incr,alpha,theta){\n",
    "  # calcule l'utilité pour i marginale par incréments de incr heures de travail\n",
    "  lsup <- seq(0,Lmax,by=incr) # vecteur des heures travaillées\n",
    "  util <- sapply(lsup,function(x) Utilite(i,x,alpha,theta)) # évalue l'utilité pour chaque niveau d'heures travaillées\n",
    "  util2 <- c(util[2:(length(util))],0) # décale le vecteur des utilités\n",
    "  deltautil <- util2-util # utilité marginale\n",
    "  return(list(lsup[1:length(lsup)-1],deltautil[1:length(lsup)-1],util[1:length(lsup)-1]))\n",
    "}"
   ]
  },
  {
   "cell_type": "code",
   "execution_count": null,
   "metadata": {},
   "outputs": [],
   "source": []
  },
  {
   "cell_type": "markdown",
   "metadata": {},
   "source": [
    "La fonction demande l'individu *i*, le plus petit ajustement des heures annuelles *incr* ainsi que le vecteur de préférences individuelles *alpha*. La fonction retourne une liste de trois éléments. Premièrement, *lsup*, le vecteur des heures travaillées auxquelles la fonction est évaluée. Deuxièmement, *deltautil* qui est l'utilité marginale entre $L$ et $L+1$ heures travaillées. Troisièmement, *util* qui est l'utilité évaluée à chaque valer de *lsup*. "
   ]
  },
  {
   "cell_type": "markdown",
   "metadata": {},
   "source": [
    "## Calibration\n",
    "\n",
    "Avec la commande suivante, on trouve facilement le nombre d'heures travaillées pour *i=10*, pour le *alpha* déclaré au début du code, pouvant ajuster ses heures de travail par blocs de *lincr* heures annuellement."
   ]
  },
  {
   "cell_type": "code",
   "execution_count": 10,
   "metadata": {},
   "outputs": [
    {
     "name": "stdout",
     "output_type": "stream",
     "text": [
      "[1] \"Annuel:\"       \"3750\"          \"Hebdomadaire:\" \"75\"           \n"
     ]
    }
   ],
   "source": [
    "theta0 <- rep(1,(k+3))*0.01 # valeur initial de theta: k+1=écart-type des erreurs, k+2=40h/sem, k+3=0h/sem\n",
    "alpha <- as.numeric(Xmat%*%matrix(theta0[1:4],4,1)) # valeur initiale de alpha\n",
    "vec_u <- umarginal(10,lincr,alpha,theta0)[[3]] # vecteur des utilités\n",
    "Lstar <- (which(vec_u==max(vec_u))-1)*lincr # nombre d'heures qui maximise l'utilité.\n",
    "print(c('Annuel:',Lstar, 'Hebdomadaire:',Lstar/weeks))"
   ]
  },
  {
   "cell_type": "markdown",
   "metadata": {},
   "source": [
    "Ici, notre individu *i=10* travaille très peu! C'est esssentiellement en raison des valeurs de *theta* choisies, ce qui entraîne que *alpha* est relativement élevé, donc que l'individu accorde peu d'importance au Loisir.\n",
    "\n",
    "Pour régler cette situation, nous allons utiliser les données sur les heures travaillées disponibles dans la *Labour Force Survey*.\n",
    "\n",
    "La procédure décrite ici est celle de la Méthode des Moments Généralisés Simulés. Essentiellement, on n'observe pas l'hétérogénéité des préférences des individus (i.e. leur substitution Consommation/Loisir). Tel que décrit plus haut, on peut résumer cette information par $\\alpha_i$. Ici, on va supposer une forme paramétrique:\n",
    "\n",
    "$$\\ln(\\alpha_i)=\\mathbf{x}_i\\theta$$\n",
    "\n",
    "et on va aussi suppose que l'utilité est aléatoire:\n",
    "$$\n",
    "\\hat{U}_i(C,L)=U_i(C,L)+\\varepsilon_{i,L},\n",
    "$$\n",
    "où $\\varepsilon_{i,L}$ suit une loi normale de variance $\\sigma^2$.\n",
    "\n",
    "Essentiellement, ici, on va vouloir choisir les valeurs de $\\theta$ afin que les heures travaillées produites par le modèle (i.e.celles issue de la maximisation de l'utilité des individus) soient conformes avec les données\n",
    "\n",
    "Par exemple, on pout vouloir avoir le même nombre moyen (moyenne sur tous les individus) d'heures travaillées et le même écart-type de la distribution des heures travaillées. On appelle les caractéristiques que l'on veut reproduire des *moments*. Dans cet exemple, il y a donc 2 moments: les heures moyennes travaillées et l'écart-type des heures travaillées.\n",
    "\n",
    "Par contre, notez qu'il y a plusieurs variables explicatives, donc il y a probablement plusieurs valeurs de $\\theta$ qui permettent de répliquer la moyenne et l'écart-type des heures travaillées. On dit que le modèle est *sous-identifié*. Pour que le modèle soit identifié, il nous faut au minimums autant de moments que de paramètres à estimer. En multipliant le vecteur des heures travaillées par la matrice des caractéristiques individuelles, on obtient facilement des moments intuitifs.\n",
    "\n",
    "Le code suivant génère les moments associés."
   ]
  },
  {
   "cell_type": "code",
   "execution_count": 11,
   "metadata": {},
   "outputs": [
    {
     "name": "stdout",
     "output_type": "stream",
     "text": [
      "[1] 1.614918e+03 9.247550e+03 7.351689e+02 6.278814e+03 7.156712e+02\n",
      "[6] 2.229233e-01 6.369477e-02\n"
     ]
    }
   ],
   "source": [
    "rhours <- as.numeric(lfsqc$ATOTHRS)*weeks # nombre d'heures annuelles sur une base de 'weeks' semaines de travail\n",
    "wrhours <- rhours*wght\n",
    "rwse <-  sqrt((sum(wght*(rhours^2))/sum(wght))-(sum(wrhours)/sum(wght))^2)\n",
    "#rmoments <- c(colSums(matrix(rep(wrhours,k),n,k)*Xmat)/sum(wght),rwse,sum(as.numeric(rhours>=1750&rhours<=2000)*wght)/sum(wght),sum(as.numeric(rhours==0)*wght)/sum(wght)) # calcul des moments\n",
    "rmoments <- c(colSums(matrix(rep(wrhours,k),n,k)*Xmat)/sum(wght),rwse,sum(as.numeric(rhours==2000)*wght)/sum(wght),sum(as.numeric(rhours==0)*wght)/sum(wght)) # calcul des moments\n",
    "print(rmoments)"
   ]
  },
  {
   "cell_type": "markdown",
   "metadata": {},
   "source": [
    "On a donc 7 moments ici:\n",
    "- (1) moyenne(heures travaillées)\n",
    "- (2) moyenne(heures travaillées $\\times$ age)\n",
    "- (3) moyenne(heures travaillées -- femme)\n",
    "- (4) moyenne(heures travaillées $\\times$ niveau d'éducation)\n",
    "- (5) écart-type(heures travaillées)\n",
    "- (6) moyenne(travaille entre 35 et 40h / semaine)\n",
    "- (7) moyenne(ne travaille pas)\n",
    "\n",
    "Notez ici que les moyennes et l'écart-type sont pondérés (les individus ne sont pas également représentatifs de la population)!\n",
    "\n",
    "On veut donc choisir une valeur de $\\theta$ telle que les moments simulés par le modèle soient proche des moments dans les données. Malgré que nous ayons autant de moments que de paramètres, nous ne pouvons en général pas être certains qu'il existe une unique valeur de $\\theta$ qui fasse l'affaire. C'est pour cela que nous parlons habituellement de \"calibration\" et non d'\"estimation\" du modèle. Aussi, nous n'allons en général pas calculer les intervales de confiance sur les valeurs calibrées de $\\theta$.\n",
    "\n",
    "Par contre, en pratique, la calibration s'opère comme une estimation classique, i.e. nous allons minimiser la distance entre les moments simulés et les moments des données:\n",
    "$$\n",
    "GMM(\\theta)=(\\mathbb{E}Moments(\\theta)-Moments)'(\\mathbb{E}Moments(\\theta)-Moments)\n",
    "$$\n",
    "où $\\mathbb{E}Moments(\\theta)$ est la moyenne des moments simulés pour différents tirages des $\\varepsilon_i$ et $Moments$ sont les moments des données. La procédure est donc de minimiser $GMM(\\theta)$. Voici le code R associé:"
   ]
  },
  {
   "cell_type": "code",
   "execution_count": 12,
   "metadata": {},
   "outputs": [],
   "source": [
    "wrapi <- function(i,sim,alpha,theta){\n",
    "    u <- as.numeric(umarginal(i,lincr,alpha,theta)[[3]])+as.numeric(erreur[[sim]][i,])*exp(theta[k+1]) # utilité pour chaque niveau d'heures travaillées\n",
    "      # notez ici le changement de variable \"exp(theta[6])\" afin de s'assurer que l'écart-type soit toujours un chiffre positif.\n",
    "    h <- (which(u==max(u))-1)*lincr # heures travaillées qui maximisent l'utilité\n",
    "    return(min(h))\n",
    "}\n",
    "simhours <- function(theta){\n",
    "  alpha <- exp(as.numeric(Xmat%*%matrix(theta[1:k],k,1))) # simulation des préférences alpha pour chaque individu\n",
    "  moments <- rep(0,length(theta)) # vecteur de zéros qui va contenir la moyenne des moments simulés\n",
    "  for (sim in 1:nsim){\n",
    "     hours <- as.numeric(sapply(1:n,function(i) wrapi(i,sim,alpha,theta)))\n",
    "     wh <- wght*hours\n",
    "     swse <-  sqrt((sum(wght*(hours^2))/sum(wght))-(sum(wh)/sum(wght))^2)\n",
    "     #moments <- moments + c(colSums(matrix(rep(wh,k),n,k)*Xmat)/sum(wght),swse,sum(as.numeric(hours>=1750&hours<=2000)*wght)/sum(wght),sum(as.numeric(hours==0)*wght)/sum(wght)) # calcul des moments     \n",
    "    moments <- moments + c(colSums(matrix(rep(wh,k),n,k)*Xmat)/sum(wght),swse,sum(as.numeric(hours==2000)*wght)/sum(wght),sum(as.numeric(hours==0)*wght)/sum(wght)) # calcul des moments     \n",
    "  }\n",
    "  moments <- moments/nsim # fait la moyenne\n",
    "  return(moments)\n",
    "}\n",
    "\n",
    "distrhours <- function(theta){\n",
    "  moments <- simhours(theta) # moments simulés\n",
    "#  gmm <- sum((moments/max(rmoments,rep(1,length(theta)))-rep(1,length(theta)))^2) # distance entre les moments simulés et les moments dans les données\n",
    "   gmm <- sum((moments-rmoments)^2) # distance entre les moments simulés et les moments dans les données\n",
    "  return(gmm)\n",
    "}"
   ]
  },
  {
   "cell_type": "code",
   "execution_count": 13,
   "metadata": {},
   "outputs": [
    {
     "data": {
      "text/plain": [
       "   Min. 1st Qu.  Median    Mean 3rd Qu.    Max. \n",
       "  1.020   1.094   1.116   1.116   1.139   1.197 "
      ]
     },
     "metadata": {},
     "output_type": "display_data"
    }
   ],
   "source": [
    "summary(exp(as.numeric(Xmat%*%matrix(theta0[1:k],k,1))))"
   ]
  },
  {
   "cell_type": "markdown",
   "metadata": {},
   "source": [
    "Rappelez vous qu'un choc aléatoire est ajouté à $\\alpha_i$ pour tenir compte de l'hétérogénéité inobservée. Une bonne pratique est de simuler les erreurs d'abord afin qu'elles soient les mêmes pour chaque évaluation des différentes valeurs de $\\theta$ et ainsi éviter les problèmes numérique pour un nombre faible de simulations."
   ]
  },
  {
   "cell_type": "code",
   "execution_count": 26,
   "metadata": {},
   "outputs": [],
   "source": [
    "####### Dernières variables globales #######\n",
    "nsim <- 10\n",
    "erreur <- vector(\"list\", nsim)\n",
    "erreur2 <- vector(\"list\",nsim)\n",
    "for (s in 1:nsim){\n",
    "  erreur[[s]] <- matrix(rnorm(n*(Lmax/lincr)),n,(Lmax/lincr))\n",
    "  erreur2[[s]] <- rnorm(n)\n",
    "}"
   ]
  },
  {
   "cell_type": "markdown",
   "metadata": {},
   "source": [
    "On peut donc maintenant lancer la calibration."
   ]
  },
  {
   "cell_type": "code",
   "execution_count": 27,
   "metadata": {},
   "outputs": [],
   "source": [
    "thetatry <- c(0.01239040, -0.01531411,  0.01137535,  0.01061802,  0.01987626,  0.01161269, 0.01602443)\n",
    "thetatry[4] <- thetatry[4]+0.01\n",
    "thetatry[k+2] <- thetatry[k+2]+1\n",
    "thetatry[k+3] <- thetatry[k+3]+0.7\n",
    "#out <- optim(thetatry, fn=distrhours) # minimise la fonction gmmfct prenant theta comme valeur de départ.\n",
    "#thetatry <- out$par\n",
    "#print(out)"
   ]
  },
  {
   "cell_type": "markdown",
   "metadata": {},
   "source": [
    "On voit la valeur calibrée de theta dans $out\\$ par$ et la valeur de la fonction objective dans $out\\$ value$. On peut maintenant voir les moments simulés (moyenne sur *nsim* simulations) et les moments réels avec le code suivant:"
   ]
  },
  {
   "cell_type": "code",
   "execution_count": 28,
   "metadata": {},
   "outputs": [
    {
     "name": "stdout",
     "output_type": "stream",
     "text": [
      "[1]  0.01239040 -0.01531411  0.01137535  0.02061802  0.01987626  1.01161269\n",
      "[7]  0.71602443\n",
      "[1] 2.006617e+03 1.119527e+04 9.823911e+02 7.577383e+03 6.901733e+02\n",
      "[6] 3.539441e-01 0.000000e+00\n",
      "[1] 1.614918e+03 9.247550e+03 7.351689e+02 6.278814e+03 7.156712e+02\n",
      "[6] 2.229233e-01 6.369477e-02\n"
     ]
    }
   ],
   "source": [
    "print(thetatry)\n",
    "print(simhours(thetatry))\n",
    "print(rmoments)"
   ]
  },
  {
   "cell_type": "markdown",
   "metadata": {},
   "source": [
    "On voit donc que la majorité des moments sont bien simulés, sauf que le modèle produit trop de variation dans les heures travaillées: l'écart-type des heures travaillées est très grand. Regardons la distribution réelle des heures travaillées."
   ]
  },
  {
   "cell_type": "code",
   "execution_count": 29,
   "metadata": {},
   "outputs": [
    {
     "name": "stdout",
     "output_type": "stream",
     "text": [
      "[1] 4000\n"
     ]
    },
    {
     "data": {
      "image/png": "[encoded data removed]",
      "text/plain": [
       "Plot with title \"Histogram of rhours\""
      ]
     },
     "metadata": {},
     "output_type": "display_data"
    }
   ],
   "source": [
    "hist(rhours)\n",
    "print(max(rhours))"
   ]
  },
  {
   "cell_type": "markdown",
   "metadata": {},
   "source": [
    "On voit bien la masse importante juste avant 2000 heures de travail (i.e. 40 heures par semaine pendant 50 semaines), ce qui est intuitivement clair. Le code suivant nous donne un exemple de distribution des heures travaillées données par le modèle."
   ]
  },
  {
   "cell_type": "code",
   "execution_count": 30,
   "metadata": {},
   "outputs": [
    {
     "data": {
      "image/png": "[encoded data removed]",
      "text/plain": [
       "Plot with title \"Histogram of simwork(thetatry, 1)\""
      ]
     },
     "metadata": {},
     "output_type": "display_data"
    }
   ],
   "source": [
    "simwork <- function(theta,sim){\n",
    "    hours <- rep(0,n) # vecteur de zéros qui va contenir les heures travaillées simulées\n",
    "    alpha <- exp(as.numeric(Xmat%*%matrix(theta[1:k],k,1))) # simulation des préférences alpha pour chaque individu\n",
    "    for (i in 1:n){\n",
    "      u <- umarginal(i,lincr,alpha,theta)[[3]]+as.numeric(erreur[[sim]][i,])*exp(theta[k+1]) # utilité pour chaque niveau d'heures travaillées\n",
    "      h <- (which(u==max(u))-1)*lincr # heures travaillées qui maximisent l'utilité\n",
    "      hours[i] <- h # conserve dans le vecteur\n",
    "    }\n",
    "    return(hours)\n",
    "}\n",
    "hist(simwork(thetatry,1))"
   ]
  },
  {
   "cell_type": "markdown",
   "metadata": {},
   "source": [
    "Notre modèle est donc loins d'être parfait. Il peut être amélioré en ajustant notre spécification des préférences, i.e. en changeant l'expression:\n",
    "\n",
    "$$\\ln(\\alpha_i)=\\mathbf{x}_i\\theta,$$\n",
    "\n",
    "ou plus généralement en supposant une autre forme de fonction d'utilité. Il y a de nombreuses possibilités... à vous de jouer !\n",
    "\n",
    "Pour l'instant, la valeur estimée de $\\theta$ nous donne une distribution des heures travaillées, ce qui nous permet de calculer les taxes, le bien-être et beaucoup d'autre variables."
   ]
  },
  {
   "cell_type": "code",
   "execution_count": 31,
   "metadata": {},
   "outputs": [
    {
     "data": {
      "text/plain": [
       " heures travaillées    utilité       revenu brut     taxes et transferts\n",
       " Min.   : 250       Min.   :16.04   Min.   :  4289   Min.   :    79.27  \n",
       " 1st Qu.:1669       1st Qu.:17.98   1st Qu.: 30393   1st Qu.:  5197.30  \n",
       " Median :2000       Median :18.51   Median : 46374   Median : 10062.49  \n",
       " Mean   :2009       Mean   :18.55   Mean   : 54779   Mean   : 14271.96  \n",
       " 3rd Qu.:2375       3rd Qu.:19.15   3rd Qu.: 70443   3rd Qu.: 19183.06  \n",
       " Max.   :3925       Max.   :20.66   Max.   :257920   Max.   :110493.75  "
      ]
     },
     "metadata": {},
     "output_type": "display_data"
    }
   ],
   "source": [
    "makestats <- function(theta){\n",
    "   stats_var <- matrix(0,n,4)\n",
    "   for (sim in 1:nsim){\n",
    "     h <- simwork(theta,sim)\n",
    "     inc <- h*wage\n",
    "     t <- sapply(inc,function(x) itax(x)[1])\n",
    "     alpha <- exp(as.numeric(Xmat%*%matrix(theta[1:k],k,1)))\n",
    "     u <- sapply(1:n, function(i) Utilite(i,h[i],alpha,theta))\n",
    "     stats_var[,1] <- stats_var[,1] + (sort(h)/nsim)\n",
    "     stats_var[,2] <- stats_var[,2] +(sort(u)/nsim)\n",
    "     stats_var[,3] <- stats_var[,3] +(sort(inc)/nsim)\n",
    "     stats_var[,4] <- stats_var[,4] +(sort(t)/nsim)\n",
    "   }\n",
    "   return(stats_var)\n",
    "}\n",
    "matstats <- makestats(thetatry)\n",
    "colnames(matstats) <- c(\"heures travaillées\",\"utilité\",\"revenu brut\",\"taxes et transferts\")\n",
    "summary(matstats)"
   ]
  },
  {
   "cell_type": "markdown",
   "metadata": {},
   "source": [
    "Cela nous donne donc des données intéressantes à comparer. Vous pouvez aussi naturellement vous intéresser à d'autres variables comme par exemple l'indice de Gini. Faites par contre attention d'utiliser correctement les poids échantillonaux lorsque vous travaillez avec des variables globales!"
   ]
  },
  {
   "cell_type": "markdown",
   "metadata": {},
   "source": [
    "## Impact de réforme"
   ]
  },
  {
   "cell_type": "markdown",
   "metadata": {},
   "source": [
    "On a donc une valeur de $\\theta$ qui permet de répliquer les moments observés dans les données et de donner quelques statistiques descriptives de l'économie simulée. On peut donc maintenant commencer à faire des analyses de réformes. À titre d'exemple, ici, enlevons le programme d'aide sociale."
   ]
  },
  {
   "cell_type": "code",
   "execution_count": 20,
   "metadata": {},
   "outputs": [],
   "source": [
    "as <- 0"
   ]
  },
  {
   "cell_type": "markdown",
   "metadata": {},
   "source": [
    "On observe donc la modification suivante aux TME:"
   ]
  },
  {
   "cell_type": "code",
   "execution_count": 21,
   "metadata": {},
   "outputs": [
    {
     "data": {
      "image/png": "[encoded data removed]",
      "text/plain": [
       "plot without title"
      ]
     },
     "metadata": {},
     "output_type": "display_data"
    }
   ],
   "source": [
    "outtme <- tme(100,250000)"
   ]
  },
  {
   "cell_type": "markdown",
   "metadata": {},
   "source": [
    "On peut donc utiliser le modèle pour voir les changements anticipés sur les valeurs des moments."
   ]
  },
  {
   "cell_type": "code",
   "execution_count": 22,
   "metadata": {},
   "outputs": [
    {
     "name": "stdout",
     "output_type": "stream",
     "text": [
      "[1] 2.007261e+03 1.113652e+04 9.934861e+02 7.640257e+03 7.212621e+02\n",
      "[6] 3.327551e-01 0.000000e+00\n"
     ]
    }
   ],
   "source": [
    "print(simhours(thetatry))"
   ]
  },
  {
   "cell_type": "markdown",
   "metadata": {},
   "source": [
    "On peut aussi voir les autres statistiques prédites:"
   ]
  },
  {
   "cell_type": "code",
   "execution_count": 23,
   "metadata": {},
   "outputs": [
    {
     "data": {
      "text/plain": [
       " heures travaillées    utilité       revenu brut     taxes et transferts\n",
       " Min.   : 250       Min.   :16.12   Min.   :  3375   Min.   :    62.37  \n",
       " 1st Qu.:1500       1st Qu.:17.95   1st Qu.: 29453   1st Qu.:  4921.09  \n",
       " Median :2000       Median :18.48   Median : 46958   Median : 10275.01  \n",
       " Mean   :2023       Mean   :18.52   Mean   : 55236   Mean   : 14448.50  \n",
       " 3rd Qu.:2500       3rd Qu.:19.12   3rd Qu.: 73605   3rd Qu.: 20374.24  \n",
       " Max.   :4000       Max.   :20.67   Max.   :238320   Max.   :100044.99  "
      ]
     },
     "metadata": {},
     "output_type": "display_data"
    }
   ],
   "source": [
    "matstats_noas <- makestats(thetatry)\n",
    "colnames(matstats_noas) <- c(\"heures travaillées\",\"utilité\",\"revenu brut\",\"taxes et transferts\")\n",
    "summary(matstats_noas)"
   ]
  },
  {
   "cell_type": "markdown",
   "metadata": {},
   "source": [
    "En particulier, ici on voit que tous se sont mis à travailler. C'est une conséquence directe de l'hypothèse sur l'utilité: sans aide sociale, ne pas travailler implique une consommation nulle et une utilité de -Infini. Les individus sont donc prêts à tout pour arriver à consommer. Remettons l'histograme des heures travaillées (simulées) sur le modèle avec assurance emploi:"
   ]
  },
  {
   "cell_type": "code",
   "execution_count": 24,
   "metadata": {},
   "outputs": [
    {
     "data": {
      "image/png": "[encoded data removed]",
      "text/plain": [
       "Plot with title \"Histogram of matstats[, 1]\""
      ]
     },
     "metadata": {},
     "output_type": "display_data"
    }
   ],
   "source": [
    "hist(matstats[,1])"
   ]
  },
  {
   "cell_type": "code",
   "execution_count": 25,
   "metadata": {},
   "outputs": [
    {
     "data": {
      "image/png": "[encoded data removed]",
      "text/plain": [
       "Plot with title \"Histogram of matstats_noas[, 1]\""
      ]
     },
     "metadata": {},
     "output_type": "display_data"
    }
   ],
   "source": [
    "hist(matstats_noas[,1])"
   ]
  },
  {
   "cell_type": "code",
   "execution_count": null,
   "metadata": {},
   "outputs": [],
   "source": []
  }
 ],
 "metadata": {
  "kernelspec": {
   "display_name": "R",
   "language": "R",
   "name": "ir"
  },
  "language_info": {
   "codemirror_mode": "r",
   "file_extension": ".r",
   "mimetype": "text/x-r-source",
   "name": "R",
   "pygments_lexer": "r",
   "version": "3.6.1"
  }
 },
 "nbformat": 4,
 "nbformat_minor": 2
}
