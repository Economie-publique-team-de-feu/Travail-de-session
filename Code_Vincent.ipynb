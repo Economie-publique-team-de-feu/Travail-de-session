{
 "cells": [
  {
   "cell_type": "markdown",
   "metadata": {},
   "source": [
    "# Offre de travail\n",
    "\n",
    "L'objectif ici est d'étudier les effets de changements dans la fiscalité du travail sur l'offre de travail des individus. Les données utilisées sont tirées du Labour Force Survey pour la province de Québec."
   ]
  },
  {
   "cell_type": "markdown",
   "metadata": {},
   "source": [
    "Les variables globales sont définies pour le moment, elles seront discutées de manière plus détaillée par la suite.\n",
    "- *Lmax* est le nombre maximal d'heures travaillées par année.\n",
    "- *weeks* est le nombre de semaines de travail par année.\n",
    "- *lincr* est le nombre minimal d'heures annuelles de travail que l'individu peut ajuster."
   ]
  },
  {
   "cell_type": "code",
   "execution_count": 1,
   "metadata": {},
   "outputs": [
    {
     "data": {
      "text/html": [
       "3"
      ],
      "text/latex": [
       "3"
      ],
      "text/markdown": [
       "3"
      ],
      "text/plain": [
       "[1] 3"
      ]
     },
     "metadata": {},
     "output_type": "display_data"
    }
   ],
   "source": [
    "library(readr) # package pour lire les .csv\n",
    "library(compiler) # package pour le Just-in-time compilation\n",
    "enableJIT(3) # Option du package compiler\n",
    "set.seed(123) # résultats répliquables!\n",
    "Lmax <- 4250\n",
    "weeks <- 50\n",
    "lincr <- 250"
   ]
  },
  {
   "cell_type": "markdown",
   "metadata": {},
   "source": [
    "Pour cette analyse, nous allons utiliser les données du *Labour Force Survey* pour la province de Québec (*PROV=24*). Pour cet exemple, je me concentre uniquement sur quelques variables explicatives. Quelques détails sur le code plus bas:\n",
    "- La commande *complete.case* enlève les valeurs manquantes\n",
    "- *n* est le nombre d'individus\n",
    "- *wage* est le salaire horaire habituel déclaré pour chaque individu\n",
    "- *Xmat* est la matrice des characteristiques individuelles\n",
    "- *theta* est un vecteur de paramètres à estimer\n",
    "- *alpha* est le vecteur (impliqué par *theta*) des préférences individuelles."
   ]
  },
  {
   "cell_type": "markdown",
   "metadata": {},
   "source": [
    "### Load Data\n",
    "\n",
    "Le code suivant est pour charger les données sur MS Azur:"
   ]
  },
  {
   "cell_type": "code",
   "execution_count": 2,
   "metadata": {},
   "outputs": [],
   "source": [
    "#library(\"AzureML\")\n",
    "\n",
    "#ws <- workspace(\n",
    "#  id = \"9170bb487fa84fdebd6c14f8cc8a5996\",\n",
    "#  auth = \"kki57C9hpdShdv7pdcVNNw/A2+4XkDeFkRM86/cxhdlIrpxQdRttTWaLpe88HOAaYl5pwg0BV3Zq8L+tO5a/vg==\",\n",
    "#  api_endpoint = \"https://studioapi.azureml.net\"\n",
    "#)\n",
    "#ds <- download.datasets(\n",
    "#  dataset = ws,\n",
    "#  name = \"lfs-71M0001-E-2018-may_F1.csv\"\n",
    "#)\n",
    "#head(ds)"
   ]
  },
  {
   "cell_type": "markdown",
   "metadata": {},
   "source": [
    "### Suite..."
   ]
  },
  {
   "cell_type": "code",
<<<<<<< HEAD
   "execution_count": 3,
   "metadata": {
    "scrolled": true
   },
=======
   "execution_count": 2,
   "metadata": {},
>>>>>>> e5ba577bf547b7afa297ead8817a118bbf17a5f3
   "outputs": [
    {
     "data": {
      "text/plain": [
       "       V1          V2               V3              V4             wage      \n",
<<<<<<< HEAD
       " Min.   :1   Min.   : 1.000   Min.   :0.000   Min.   :0.000   Min.   : 5.00  \n",
       " 1st Qu.:1   1st Qu.: 4.000   1st Qu.:0.000   1st Qu.:3.000   1st Qu.:17.00  \n",
       " Median :1   Median : 6.000   Median :1.000   Median :4.000   Median :24.00  \n",
       " Mean   :1   Mean   : 5.745   Mean   :0.519   Mean   :3.675   Mean   :27.30  \n",
       " 3rd Qu.:1   3rd Qu.: 8.000   3rd Qu.:1.000   3rd Qu.:5.000   3rd Qu.:34.53  \n",
       " Max.   :1   Max.   :12.000   Max.   :1.000   Max.   :6.000   Max.   :86.54  "
=======
       " Min.   :1   Min.   : 1.000   Min.   :0.000   Min.   :0.000   Min.   : 3.61  \n",
       " 1st Qu.:1   1st Qu.: 4.000   1st Qu.:0.000   1st Qu.:3.000   1st Qu.:16.00  \n",
       " Median :1   Median : 6.000   Median :0.000   Median :4.000   Median :21.63  \n",
       " Mean   :1   Mean   : 6.028   Mean   :0.496   Mean   :3.562   Mean   :24.77  \n",
       " 3rd Qu.:1   3rd Qu.: 8.000   3rd Qu.:1.000   3rd Qu.:4.000   3rd Qu.:31.02  \n",
       " Max.   :1   Max.   :12.000   Max.   :1.000   Max.   :6.000   Max.   :82.42  "
>>>>>>> e5ba577bf547b7afa297ead8817a118bbf17a5f3
      ]
     },
     "metadata": {},
     "output_type": "display_data"
    }
   ],
   "source": [
<<<<<<< HEAD
    "lfs <- read_csv(\"./LFS-71M0001-E-2020-February_F1.csv\", col_types = cols()) # importe les données du LFS, May 2018\n",
=======
    "lfs <- read_csv(\"./lfs-71M0001-E-2018-may_F1.csv\", col_types = cols()) # importe les données du LFS, May 2018\n",
>>>>>>> e5ba577bf547b7afa297ead8817a118bbf17a5f3
    "#lfs <- ds\n",
    "lfsqc <- lfs[lfs$PROV==24,] # garde uniquement le Québec\n",
    "rm(lfs) # supprime la base initiale de la mémoire\n",
    "lfsqc <- lfsqc[,c(\"AGE_12\",\"SEX\",\"EDUC\",\"ATOTHRS\",\"HRLYEARN\",\"FINALWT\")] # garde seulement certaines variables\n",
    "n0 <- nrow(lfsqc) # garde le nombre d'observations initiales\n",
    "missingweight <- c(lfsqc[!complete.cases(lfsqc),\"FINALWT\"])[[1]] #garde les poids des individus qui seront enlevés\n",
    "lfsqc <- lfsqc[complete.cases(lfsqc), ] # enlève les observations avec des variables manquantes\n",
    "lfsqc <- lfsqc[sample(1:nrow(lfsqc), 1000, replace=FALSE),] # sous-échantillonage pour les tests (à commenter pour l'analyse finale)\n",
    "n <- nrow(lfsqc) # nombre d'individus dans la base\n",
    "wage <- as.numeric(lfsqc$HRLYEARN) # salaire horaire\n",
    "Xmat <- matrix(c(lfsqc$AGE_12,lfsqc$SEX,lfsqc$EDUC),n,3) # matrice des variables explicatives\n",
    "Xmat <- matrix(c(rep(1,n),Xmat),n,4) # ajoute une constante\n",
    "k <- 4 # nombre de variables explicatives (incluant la constante)\n",
    "Xmat[,3] <- as.numeric(Xmat[,3]==2) # recode la variable \"sex\": 1=femme, 0=homme\n",
    "corfact <- sum(lfsqc$FINALWT)/(sum(lfsqc$FINALWT)+sum(missingweight))\n",
    "wght <- as.numeric(lfsqc$FINALWT)/corfact # calcule les poids approximatifs (les val. manquantes sont parfaitement aléatoires)\n",
    "\n",
    "summary(cbind(Xmat,wage)) # résumé des variables"
   ]
  },
  {
   "cell_type": "markdown",
   "metadata": {},
   "source": [
    "Nous allons aussi utiliser les taux de taxe et paliers suivants:"
   ]
  },
  {
   "cell_type": "code",
<<<<<<< HEAD
   "execution_count": 4,
=======
   "execution_count": 3,
>>>>>>> e5ba577bf547b7afa297ead8817a118bbf17a5f3
   "metadata": {},
   "outputs": [],
   "source": [
    "  # source1: http://www.nrgcpa.ca/deductions-a-la-source-et-charges-sociales\n",
    "  # source2: http://www4.gouv.qc.ca/FR/Portail/Citoyens/Evenements/immigrer-au-quebec/Pages/programme-aide-sociale.aspx\n",
    "\n",
    "  # taux de taxe QC\n",
    "  pp1 <- 0.15\n",
    "  pp2 <- 0.2\n",
    "  pp3 <- 0.24\n",
    "  pp4 <- 0.2575\n",
    "\n",
    "  # seuils de taxation QC\n",
    "  p1 <- 15012\n",
    "  p2 <- 43055\n",
    "  p3 <- 86105\n",
    "  p4 <- 104765\n",
    "\n",
    "  # taux de taxe CAN\n",
    "  pt1 <- 0.1253\n",
    "  pt2 <- 0.1712\n",
    "  pt3 <- 0.2171\n",
    "  pt4 <- 0.2422\n",
    "  pt5 <- 0.2756\n",
    "\n",
    "  # seuils de taxation CAN\n",
    "  f1 <- 11809\n",
    "  f2 <- 46605\n",
    "  f3 <- 93208\n",
    "  f4 <- 144489\n",
    "  f5 <- 205842\n",
    "\n",
    "  as <- 1 # =1 programme aide sociale, =0 si enlève aide sociale"
   ]
  },
  {
   "cell_type": "markdown",
   "metadata": {},
   "source": [
    "Les préférences sont représentées par une fonction d'utilité de type log-log:\n",
    "\n",
    "$$ U(C,L) = \\alpha_i\\ln(\\bar{L}-L) + \\ln(C) + v_0(L=0) + v_f(L\\in[1750,2000])$$\n",
    "\n",
    "où $C$ est la consommation (i.e. le revenu disponible) et $L$ est la quantité de travail (annuelle, en heures). La fonction $v_0$ permet d'inclure des coûts fixes au travail alors que la fonction $v_f$ permet de mettre une rigidité au travail à temps plein.\n",
    "\n",
    "Le code R associé est donné par la fonction suivante:"
   ]
  },
  {
   "cell_type": "code",
<<<<<<< HEAD
   "execution_count": 5,
=======
   "execution_count": 4,
>>>>>>> e5ba577bf547b7afa297ead8817a118bbf17a5f3
   "metadata": {},
   "outputs": [],
   "source": [
    "Utilite <- function(i,L,alpha,theta){\n",
    "  # Fonction d'utilité du travail et de la consommation\n",
    "      util <- alpha[i]*log(Lmax-L)+log(Cnet(i,L)) + theta[k+2]*as.numeric(L==2000) + theta[k+3]*as.numeric(L==0)\n",
    "  return(util)\n",
    "}"
   ]
  },
  {
   "cell_type": "markdown",
   "metadata": {},
   "source": [
    "L'utilité est donnée par une fonction qui prend comme argument l'individu *i*, le nombre d'heures travaillées *L* et le vecteur de caractéristiques individuelles *alpha*. *Lmax* est le nombre d'heures travaillées maximales. La consommation (ou revenu disponible) est une fonction de l'individu *i* et du nombre travaillé et est donnée par la contrainte budgétaire:\n",
    "\n",
    "$$\n",
    "w_iL-t(w_iL)\\geq C\n",
    "$$\n",
    "\n",
    "qui sera saturée à l'optimum. Remarquez que la taxe est ici en général une fonction non-linéaire et que le salaire de l'individu $w_i$ peut être différent d'un individu à l'autre. Le code R associé à la contrainte budgétaire est donné par:"
   ]
  },
  {
   "cell_type": "code",
   "execution_count": 6,
   "metadata": {},
   "outputs": [],
   "source": [
    "Cnet <- function(i,L){\n",
    "  # Calcule la consommation nette (revenu disponible)\n",
    "  dispo <- L*wage[i]-itax(L*wage[i])[1]\n",
    "  return(dispo)\n",
    "}"
   ]
  },
  {
   "cell_type": "markdown",
   "metadata": {},
   "source": [
    "La consommation est une fonction de l'individu *i* (son salaire) et du nombre d'heures travaillées *L*. La fonction dépend aussi de la taxation du revenu par la fonction *itax*. Cette fonction est donnée par le code suivant:"
   ]
  },
  {
   "cell_type": "code",
<<<<<<< HEAD
   "execution_count": 7,
=======
   "execution_count": 10,
>>>>>>> e5ba577bf547b7afa297ead8817a118bbf17a5f3
   "metadata": {},
   "outputs": [],
   "source": [
    "itax <- function(inc){\n",
    "  # Calcule les impôts sur le revenu\n",
    "   \n",
    "  if (inc<=f1){\n",
    "    prv <- 0\n",
    "    fed <- 0\n",
    "  }\n",
    "  if (inc>f1 & inc<=p1){\n",
    "    prv <- 0\n",
    "    fed <- pt1*(inc-f1)\n",
    "  }\n",
    "  if (inc>p1 & inc<=p2){\n",
    "    prv <- pp1*(inc-p1)\n",
    "    fed <- pt1*(inc-f1)\n",
    "  }\n",
    "  else if (inc>p2 & inc<=f2){\n",
    "    prv <- pp1*(p2-p1) + pp2*(inc-p2)\n",
    "    fed <- pt1*(inc-f1)\n",
    "  }\n",
    "  else if (inc>f2 & inc<=p3){\n",
    "    prv <- pp1*(p2-p1) + pp2*(inc-p2)\n",
    "    fed <- pt1*(f2-f1) + pt2*(inc-f2)\n",
    "  }\n",
    "  else if (inc>p3 & inc<=f3){\n",
    "    prv <- pp1*(p2-p1) + pp2*(p3-p2) + pp3*(inc-p3)\n",
    "    fed <- pt1*(f2-f1) + pt2*(inc-f2)\n",
    "  }\n",
    "  else if (inc>f3 & inc<=p4){\n",
    "    prv <- pp1*(p2-p1) + pp2*(p3-p2) + pp3*(inc-p3)\n",
    "    fed <- pt1*(f2-f1) + pt2*(f3-f2) + pt3*(inc-f3)\n",
    "  }\n",
    "  else if (inc>p4 & inc<=f4){\n",
    "    prv <- pp1*(p2-p1) + pp2*(p3-p2) + pp3*(p4-p3) + pp4*(inc-p4)\n",
    "    fed <- pt1*(f2-f1) + pt2*(f3-f2) + pt3*(inc-f3)\n",
    "  }\n",
    "  else if (inc>f4 & inc<=f5){\n",
    "    prv <- pp1*(p2-p1) + pp2*(p3-p2) + pp3*(p4-p3) + pp4*(inc-p4)\n",
    "    fed <- pt1*(f2-f1) + pt2*(f3-f2) + pt3*(f4-f3) + pt4*(inc-f4)\n",
    "  }\n",
    "  else if (inc>f5){\n",
    "    prv <- pp1*(p2-p1) + pp2*(p3-p2) + pp3*(p4-p3) + pp4*(inc-p4)\n",
    "    fed <- pt1*(f2-f1) + pt2*(f3-f2) + pt3*(f4-f3) + pt4*(f5-f4) + pt5*(inc-f5)\n",
    "  }\n",
    "  aemploi <- min(51700,inc)*0.013\n",
    "  rrq <- 0 #max(min(55900,inc)-3500,0)*0.054\n",
    "  rqap <- min(74000,inc)*0.00548\n",
    "  \n",
    "  asociale <- max(648*12 - max(inc-200*12,0),0)*as\n",
    "  tax <-  prv + fed + aemploi + rrq + rqap - asociale\n",
    "  return(c(tax,prv,fed,aemploi,rrq,rqap,asociale))\n",
    "}"
   ]
  },
  {
   "cell_type": "markdown",
   "metadata": {},
   "source": [
    "Cette fonction de taxe prend en compte les paliers d'imposition fédéraux (*fed*) et québécois (*prv*), ainsi que les contributions à l'assurance emploi (*aemploi*), au RQAP (*rqap*) et, finalement, le programme d'aide sociale (*asociale*). Notez que la contribution au RRQ (*rrq*) est commentée puique cela dépend de l'hypothèse faite sur la substituabilité intertemporelle des individus.\n",
    "\n",
    "Notez qu'on peut directement voir l'impact de la fonction de taxe, sans hypothèses sur le comportement des individus en regardant les taux marginaux effectifs (TME) d'imposition. Le code suivant crée un graphique pour des incréments salariaux annuels de *incr* jusqu'à un revenu annuel de *imax*\\$"
   ]
  },
  {
   "cell_type": "code",
<<<<<<< HEAD
   "execution_count": 8,
=======
   "execution_count": 11,
>>>>>>> e5ba577bf547b7afa297ead8817a118bbf17a5f3
   "metadata": {},
   "outputs": [
    {
     "data": {
<<<<<<< HEAD
      "image/png": "iVBORw0KGgoAAAANSUhEUgAAA0gAAANICAMAAADKOT/pAAAAMFBMVEUAAABNTU1oaGh8fHyM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\nTkSuQmCC",
=======
      "image/png": "iVBORw0KGgoAAAANSUhEUgAAA0gAAANICAMAAADKOT/pAAAC+lBMVEUAAAABAQECAgIDAwME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\nCAkQICRAgJAAAUICBAgJECAkQOD/A9A8MeMuYK3/AAAAAElFTkSuQmCC",
>>>>>>> e5ba577bf547b7afa297ead8817a118bbf17a5f3
      "text/plain": [
       "plot without title"
      ]
     },
     "metadata": {},
     "output_type": "display_data"
    }
   ],
   "source": [
    "tme <- function(incr,imax){\n",
    "  # calcule les taux marginaux effectifs d'imposition, par incréments de \"incr\"$, jusqu'à imax$\n",
    "  incm <- seq(0,imax,by=incr) # vecteur des niveaux de revenus\n",
    "  tax <- sapply(incm,function(x) itax(x)[1]) # applique la taxe sur chaque niveau de revenu\n",
    "  tax2 <- c(tax[2:(length(tax))],0) # décale le taux de taxe\n",
    "  deltatax <- tax2-tax # taxe marginale\n",
    "  tm <- deltatax/incr # taux marginal effectif\n",
    "  plot(incm[1:length(incm)-1],tm[1:length(incm)-1],xlab='Revenu annuel', ylab='TME')\n",
    "  return(list(incm[1:length(incm)-1],tm[1:length(incm)-1]))\n",
    "}\n",
    "outtme <- tme(100,250000)"
   ]
  },
  {
   "cell_type": "markdown",
   "metadata": {},
   "source": [
    "Il est maintenant temps de maximiser l'utilité de l'individu. On peut substituer la contrainte budgétaire et obtenir:\n",
    "\n",
    "$$\n",
    "U(L)=\\alpha_i\\ln(\\bar{L}-L) + \\ln(w_iL-t(w_iL)) + v_0(L=0) + v_f(L\\in[1750,2000])\n",
    "$$\n",
    "\n",
    "En supposant (ce qui n'est pas le cas) que *L* est une variable continue et que $t(\\cdot)$ est différentiable (et en laissant $v_0=v_f=0$), on peut prendre les conditions de premier ordre et réécrire:\n",
    "\n",
    "$$\n",
    "\\frac{Loisir}{Consommation}=\\frac{\\alpha_i}{w_i(1-t'(w_iL))}\n",
    "$$\n",
    "\n",
    "On voit donc que le $\\alpha_i$ permet à deux individus ayant le même salaire horaire $w_i$ d'avoir des taux marginaux de substitution Consommation/Loisir différents.\n",
    "\n",
    "Ici, on suppose que l'individu a le choix d'ajuster ses heures de travail de façon discrète (des heures entières). Puisque ce sont des heures annuelles, ce n'est pas une hypothèse très forte. La fonction suivante évalue l'utilité pour différents choix d'heure de travail:"
   ]
  },
  {
   "cell_type": "code",
<<<<<<< HEAD
   "execution_count": 9,
=======
   "execution_count": 13,
>>>>>>> e5ba577bf547b7afa297ead8817a118bbf17a5f3
   "metadata": {},
   "outputs": [],
   "source": [
    "umarginal <- function(i,incr,alpha,theta){\n",
    "  # calcule l'utilité pour i marginale par incréments de incr heures de travail\n",
    "  lsup <- seq(0,Lmax,by=incr) # vecteur des heures travaillées\n",
    "  util <- sapply(lsup,function(x) Utilite(i,x,alpha,theta)) # évalue l'utilité pour chaque niveau d'heures travaillées\n",
    "  util2 <- c(util[2:(length(util))],0) # décale le vecteur des utilités\n",
    "  deltautil <- util2-util # utilité marginale\n",
    "  return(list(lsup[1:length(lsup)-1],deltautil[1:length(lsup)-1],util[1:length(lsup)-1]))\n",
    "}"
   ]
  },
  {
   "cell_type": "code",
   "execution_count": null,
   "metadata": {},
   "outputs": [],
   "source": []
  },
  {
   "cell_type": "markdown",
   "metadata": {},
   "source": [
    "La fonction demande l'individu *i*, le plus petit ajustement des heures annuelles *incr* ainsi que le vecteur de préférences individuelles *alpha*. La fonction retourne une liste de trois éléments. Premièrement, *lsup*, le vecteur des heures travaillées auxquelles la fonction est évaluée. Deuxièmement, *deltautil* qui est l'utilité marginale entre $L$ et $L+1$ heures travaillées. Troisièmement, *util* qui est l'utilité évaluée à chaque valer de *lsup*. "
   ]
  },
  {
   "cell_type": "markdown",
   "metadata": {},
   "source": [
    "## Calibration\n",
    "\n",
    "Avec la commande suivante, on trouve facilement le nombre d'heures travaillées pour *i=10*, pour le *alpha* déclaré au début du code, pouvant ajuster ses heures de travail par blocs de *lincr* heures annuellement."
   ]
  },
  {
   "cell_type": "code",
<<<<<<< HEAD
   "execution_count": 10,
=======
   "execution_count": 14,
>>>>>>> e5ba577bf547b7afa297ead8817a118bbf17a5f3
   "metadata": {},
   "outputs": [
    {
     "name": "stdout",
     "output_type": "stream",
     "text": [
<<<<<<< HEAD
      "[1] \"Annuel:\"       \"3750\"          \"Hebdomadaire:\" \"75\"           \n"
=======
      "[1] \"Annuel:\"       \"3500\"          \"Hebdomadaire:\" \"70\"           \n"
>>>>>>> e5ba577bf547b7afa297ead8817a118bbf17a5f3
     ]
    }
   ],
   "source": [
    "theta0 <- rep(1,(k+3))*0.01 # valeur initial de theta: k+1=écart-type des erreurs, k+2=40h/sem, k+3=0h/sem\n",
    "alpha <- as.numeric(Xmat%*%matrix(theta0[1:4],4,1)) # valeur initiale de alpha\n",
    "vec_u <- umarginal(10,lincr,alpha,theta0)[[3]] # vecteur des utilités\n",
    "Lstar <- (which(vec_u==max(vec_u))-1)*lincr # nombre d'heures qui maximise l'utilité.\n",
    "print(c('Annuel:',Lstar, 'Hebdomadaire:',Lstar/weeks))"
   ]
  },
  {
   "cell_type": "markdown",
   "metadata": {},
   "source": [
    "Ici, notre individu *i=10* travaille très peu! C'est esssentiellement en raison des valeurs de *theta* choisies, ce qui entraîne que *alpha* est relativement élevé, donc que l'individu accorde peu d'importance au Loisir.\n",
    "\n",
    "Pour régler cette situation, nous allons utiliser les données sur les heures travaillées disponibles dans la *Labour Force Survey*.\n",
    "\n",
    "La procédure décrite ici est celle de la Méthode des Moments Généralisés Simulés. Essentiellement, on n'observe pas l'hétérogénéité des préférences des individus (i.e. leur substitution Consommation/Loisir). Tel que décrit plus haut, on peut résumer cette information par $\\alpha_i$. Ici, on va supposer une forme paramétrique:\n",
    "\n",
    "$$\\ln(\\alpha_i)=\\mathbf{x}_i\\theta$$\n",
    "\n",
    "et on va aussi suppose que l'utilité est aléatoire:\n",
    "$$\n",
    "\\hat{U}_i(C,L)=U_i(C,L)+\\varepsilon_{i,L},\n",
    "$$\n",
    "où $\\varepsilon_{i,L}$ suit une loi normale de variance $\\sigma^2$.\n",
    "\n",
    "Essentiellement, ici, on va vouloir choisir les valeurs de $\\theta$ afin que les heures travaillées produites par le modèle (i.e.celles issue de la maximisation de l'utilité des individus) soient conformes avec les données\n",
    "\n",
    "Par exemple, on pout vouloir avoir le même nombre moyen (moyenne sur tous les individus) d'heures travaillées et le même écart-type de la distribution des heures travaillées. On appelle les caractéristiques que l'on veut reproduire des *moments*. Dans cet exemple, il y a donc 2 moments: les heures moyennes travaillées et l'écart-type des heures travaillées.\n",
    "\n",
    "Par contre, notez qu'il y a plusieurs variables explicatives, donc il y a probablement plusieurs valeurs de $\\theta$ qui permettent de répliquer la moyenne et l'écart-type des heures travaillées. On dit que le modèle est *sous-identifié*. Pour que le modèle soit identifié, il nous faut au minimums autant de moments que de paramètres à estimer. En multipliant le vecteur des heures travaillées par la matrice des caractéristiques individuelles, on obtient facilement des moments intuitifs.\n",
    "\n",
    "Le code suivant génère les moments associés."
   ]
  },
  {
   "cell_type": "code",
<<<<<<< HEAD
   "execution_count": 11,
=======
   "execution_count": 15,
>>>>>>> e5ba577bf547b7afa297ead8817a118bbf17a5f3
   "metadata": {},
   "outputs": [
    {
     "name": "stdout",
     "output_type": "stream",
     "text": [
<<<<<<< HEAD
      "[1] 1.614918e+03 9.247550e+03 7.351689e+02 6.278814e+03 7.156712e+02\n",
      "[6] 2.229233e-01 6.369477e-02\n"
=======
      "[1] 1.606694e+03 9.585666e+03 6.885536e+02 6.044460e+03 7.081306e+02\n",
      "[6] 2.437244e-01 6.980769e-02\n"
>>>>>>> e5ba577bf547b7afa297ead8817a118bbf17a5f3
     ]
    }
   ],
   "source": [
    "rhours <- as.numeric(lfsqc$ATOTHRS)*weeks # nombre d'heures annuelles sur une base de 'weeks' semaines de travail\n",
    "wrhours <- rhours*wght\n",
    "rwse <-  sqrt((sum(wght*(rhours^2))/sum(wght))-(sum(wrhours)/sum(wght))^2)\n",
    "#rmoments <- c(colSums(matrix(rep(wrhours,k),n,k)*Xmat)/sum(wght),rwse,sum(as.numeric(rhours>=1750&rhours<=2000)*wght)/sum(wght),sum(as.numeric(rhours==0)*wght)/sum(wght)) # calcul des moments\n",
    "rmoments <- c(colSums(matrix(rep(wrhours,k),n,k)*Xmat)/sum(wght),rwse,sum(as.numeric(rhours==2000)*wght)/sum(wght),sum(as.numeric(rhours==0)*wght)/sum(wght)) # calcul des moments\n",
    "print(rmoments)"
   ]
  },
  {
   "cell_type": "markdown",
   "metadata": {},
   "source": [
    "On a donc 7 moments ici:\n",
    "- (1) moyenne(heures travaillées)\n",
    "- (2) moyenne(heures travaillées $\\times$ age)\n",
    "- (3) moyenne(heures travaillées -- femme)\n",
    "- (4) moyenne(heures travaillées $\\times$ niveau d'éducation)\n",
    "- (5) écart-type(heures travaillées)\n",
    "- (6) moyenne(travaille entre 35 et 40h / semaine)\n",
    "- (7) moyenne(ne travaille pas)\n",
    "\n",
    "Notez ici que les moyennes et l'écart-type sont pondérés (les individus ne sont pas également représentatifs de la population)!\n",
    "\n",
    "On veut donc choisir une valeur de $\\theta$ telle que les moments simulés par le modèle soient proche des moments dans les données. Malgré que nous ayons autant de moments que de paramètres, nous ne pouvons en général pas être certains qu'il existe une unique valeur de $\\theta$ qui fasse l'affaire. C'est pour cela que nous parlons habituellement de \"calibration\" et non d'\"estimation\" du modèle. Aussi, nous n'allons en général pas calculer les intervales de confiance sur les valeurs calibrées de $\\theta$.\n",
    "\n",
    "Par contre, en pratique, la calibration s'opère comme une estimation classique, i.e. nous allons minimiser la distance entre les moments simulés et les moments des données:\n",
    "$$\n",
    "GMM(\\theta)=(\\mathbb{E}Moments(\\theta)-Moments)'(\\mathbb{E}Moments(\\theta)-Moments)\n",
    "$$\n",
    "où $\\mathbb{E}Moments(\\theta)$ est la moyenne des moments simulés pour différents tirages des $\\varepsilon_i$ et $Moments$ sont les moments des données. La procédure est donc de minimiser $GMM(\\theta)$. Voici le code R associé:"
   ]
  },
  {
   "cell_type": "code",
<<<<<<< HEAD
   "execution_count": 12,
=======
   "execution_count": 16,
>>>>>>> e5ba577bf547b7afa297ead8817a118bbf17a5f3
   "metadata": {},
   "outputs": [],
   "source": [
    "wrapi <- function(i,sim,alpha,theta){\n",
    "    u <- as.numeric(umarginal(i,lincr,alpha,theta)[[3]])+as.numeric(erreur[[sim]][i,])*exp(theta[k+1]) # utilité pour chaque niveau d'heures travaillées\n",
    "      # notez ici le changement de variable \"exp(theta[6])\" afin de s'assurer que l'écart-type soit toujours un chiffre positif.\n",
    "    h <- (which(u==max(u))-1)*lincr # heures travaillées qui maximisent l'utilité\n",
    "    return(min(h))\n",
    "}\n",
    "simhours <- function(theta){\n",
    "  alpha <- exp(as.numeric(Xmat%*%matrix(theta[1:k],k,1))) # simulation des préférences alpha pour chaque individu\n",
    "  moments <- rep(0,length(theta)) # vecteur de zéros qui va contenir la moyenne des moments simulés\n",
    "  for (sim in 1:nsim){\n",
    "     hours <- as.numeric(sapply(1:n,function(i) wrapi(i,sim,alpha,theta)))\n",
    "     wh <- wght*hours\n",
    "     swse <-  sqrt((sum(wght*(hours^2))/sum(wght))-(sum(wh)/sum(wght))^2)\n",
    "     #moments <- moments + c(colSums(matrix(rep(wh,k),n,k)*Xmat)/sum(wght),swse,sum(as.numeric(hours>=1750&hours<=2000)*wght)/sum(wght),sum(as.numeric(hours==0)*wght)/sum(wght)) # calcul des moments     \n",
    "    moments <- moments + c(colSums(matrix(rep(wh,k),n,k)*Xmat)/sum(wght),swse,sum(as.numeric(hours==2000)*wght)/sum(wght),sum(as.numeric(hours==0)*wght)/sum(wght)) # calcul des moments     \n",
    "  }\n",
    "  moments <- moments/nsim # fait la moyenne\n",
    "  return(moments)\n",
    "}\n",
    "\n",
    "distrhours <- function(theta){\n",
    "  moments <- simhours(theta) # moments simulés\n",
    "#  gmm <- sum((moments/max(rmoments,rep(1,length(theta)))-rep(1,length(theta)))^2) # distance entre les moments simulés et les moments dans les données\n",
    "   gmm <- sum((moments-rmoments)^2) # distance entre les moments simulés et les moments dans les données\n",
    "  return(gmm)\n",
    "}"
   ]
  },
  {
   "cell_type": "code",
<<<<<<< HEAD
   "execution_count": 13,
=======
   "execution_count": 17,
>>>>>>> e5ba577bf547b7afa297ead8817a118bbf17a5f3
   "metadata": {},
   "outputs": [
    {
     "data": {
      "text/plain": [
       "   Min. 1st Qu.  Median    Mean 3rd Qu.    Max. \n",
<<<<<<< HEAD
       "  1.020   1.094   1.116   1.116   1.139   1.197 "
=======
       "  1.020   1.094   1.116   1.118   1.150   1.209 "
>>>>>>> e5ba577bf547b7afa297ead8817a118bbf17a5f3
      ]
     },
     "metadata": {},
     "output_type": "display_data"
    }
   ],
   "source": [
    "summary(exp(as.numeric(Xmat%*%matrix(theta0[1:k],k,1))))"
   ]
  },
  {
   "cell_type": "markdown",
   "metadata": {},
   "source": [
    "Rappelez vous qu'un choc aléatoire est ajouté à $\\alpha_i$ pour tenir compte de l'hétérogénéité inobservée. Une bonne pratique est de simuler les erreurs d'abord afin qu'elles soient les mêmes pour chaque évaluation des différentes valeurs de $\\theta$ et ainsi éviter les problèmes numérique pour un nombre faible de simulations."
   ]
  },
  {
   "cell_type": "code",
<<<<<<< HEAD
   "execution_count": 26,
=======
   "execution_count": 18,
>>>>>>> e5ba577bf547b7afa297ead8817a118bbf17a5f3
   "metadata": {},
   "outputs": [],
   "source": [
    "####### Dernières variables globales #######\n",
<<<<<<< HEAD
    "nsim <- 10\n",
=======
    "nsim <- 1\n",
>>>>>>> e5ba577bf547b7afa297ead8817a118bbf17a5f3
    "erreur <- vector(\"list\", nsim)\n",
    "erreur2 <- vector(\"list\",nsim)\n",
    "for (s in 1:nsim){\n",
    "  erreur[[s]] <- matrix(rnorm(n*(Lmax/lincr)),n,(Lmax/lincr))\n",
    "  erreur2[[s]] <- rnorm(n)\n",
    "}"
   ]
  },
  {
   "cell_type": "markdown",
   "metadata": {},
   "source": [
    "On peut donc maintenant lancer la calibration."
   ]
  },
  {
   "cell_type": "code",
<<<<<<< HEAD
   "execution_count": 27,
=======
   "execution_count": 19,
>>>>>>> e5ba577bf547b7afa297ead8817a118bbf17a5f3
   "metadata": {},
   "outputs": [],
   "source": [
    "thetatry <- c(0.01239040, -0.01531411,  0.01137535,  0.01061802,  0.01987626,  0.01161269, 0.01602443)\n",
    "thetatry[4] <- thetatry[4]+0.01\n",
    "thetatry[k+2] <- thetatry[k+2]+1\n",
    "thetatry[k+3] <- thetatry[k+3]+0.7\n",
    "#out <- optim(thetatry, fn=distrhours) # minimise la fonction gmmfct prenant theta comme valeur de départ.\n",
    "#thetatry <- out$par\n",
    "#print(out)"
   ]
  },
  {
   "cell_type": "markdown",
   "metadata": {},
   "source": [
    "On voit la valeur calibrée de theta dans $out\\$ par$ et la valeur de la fonction objective dans $out\\$ value$. On peut maintenant voir les moments simulés (moyenne sur *nsim* simulations) et les moments réels avec le code suivant:"
   ]
  },
  {
   "cell_type": "code",
<<<<<<< HEAD
   "execution_count": 28,
=======
   "execution_count": 21,
>>>>>>> e5ba577bf547b7afa297ead8817a118bbf17a5f3
   "metadata": {},
   "outputs": [
    {
     "name": "stdout",
     "output_type": "stream",
     "text": [
      "[1]  0.01239040 -0.01531411  0.01137535  0.02061802  0.01987626  1.01161269\n",
      "[7]  0.71602443\n",
<<<<<<< HEAD
      "[1] 2.006617e+03 1.119527e+04 9.823911e+02 7.577383e+03 6.901733e+02\n",
      "[6] 3.539441e-01 0.000000e+00\n",
      "[1] 1.614918e+03 9.247550e+03 7.351689e+02 6.278814e+03 7.156712e+02\n",
      "[6] 2.229233e-01 6.369477e-02\n"
=======
      "[1] 1.815127e+03 1.082065e+04 8.635997e+02 6.670711e+03 8.507952e+02\n",
      "[6] 3.264946e-01 5.790896e-02\n",
      "[1] 1.606694e+03 9.585666e+03 6.885536e+02 6.044460e+03 7.081306e+02\n",
      "[6] 2.437244e-01 6.980769e-02\n"
>>>>>>> e5ba577bf547b7afa297ead8817a118bbf17a5f3
     ]
    }
   ],
   "source": [
    "print(thetatry)\n",
    "print(simhours(thetatry))\n",
    "print(rmoments)"
   ]
  },
  {
   "cell_type": "markdown",
   "metadata": {},
   "source": [
    "On voit donc que la majorité des moments sont bien simulés, sauf que le modèle produit trop de variation dans les heures travaillées: l'écart-type des heures travaillées est très grand. Regardons la distribution réelle des heures travaillées."
   ]
  },
  {
   "cell_type": "code",
<<<<<<< HEAD
   "execution_count": 29,
=======
   "execution_count": 17,
>>>>>>> e5ba577bf547b7afa297ead8817a118bbf17a5f3
   "metadata": {},
   "outputs": [
    {
     "name": "stdout",
     "output_type": "stream",
     "text": [
      "[1] 4000\n"
     ]
    },
    {
     "data": {
<<<<<<< HEAD
      "image/png": "iVBORw0KGgoAAAANSUhEUgAAA0gAAANICAMAAADKOT/pAAAAMFBMVEUAAABNTU1oaGh8fHyM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\nACEBBv4B6TiO8INxZbYAAAAASUVORK5CYII=",
      "text/plain": [
       "Plot with title \"Histogram of rhours\""
=======
      "image/png": "iVBORw0KGgoAAAANSUhEUgAAA0gAAANICAMAAADKOT/pAAAC91BMVEUAAAABAQECAgIDAwME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\nAQoICVBASIACQgIUEBKggJAABf8fozVpSsFTJsEAAAAASUVORK5CYII=",
      "text/plain": [
       "Plot with title “Histogram of rhours”"
>>>>>>> e5ba577bf547b7afa297ead8817a118bbf17a5f3
      ]
     },
     "metadata": {},
     "output_type": "display_data"
    }
   ],
   "source": [
    "hist(rhours)\n",
    "print(max(rhours))"
   ]
  },
  {
   "cell_type": "markdown",
   "metadata": {},
   "source": [
    "On voit bien la masse importante juste avant 2000 heures de travail (i.e. 40 heures par semaine pendant 50 semaines), ce qui est intuitivement clair. Le code suivant nous donne un exemple de distribution des heures travaillées données par le modèle."
   ]
  },
  {
   "cell_type": "code",
<<<<<<< HEAD
   "execution_count": 30,
=======
   "execution_count": 22,
>>>>>>> e5ba577bf547b7afa297ead8817a118bbf17a5f3
   "metadata": {},
   "outputs": [
    {
     "data": {
<<<<<<< HEAD
      "image/png": "iVBORw0KGgoAAAANSUhEUgAAA0gAAANICAMAAADKOT/pAAAAMFBMVEUAAABNTU1oaGh8fHyM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\nAABJRU5ErkJggg==",
      "text/plain": [
       "Plot with title \"Histogram of simwork(thetatry, 1)\""
=======
      "image/png": "iVBORw0KGgoAAAANSUhEUgAAA0gAAANICAMAAADKOT/pAAADAFBMVEUAAAABAQECAgIDAwME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\nAAMICTCAkAADCAkwgJAAAwgJMOD/AHMVSkNueHdbAAAAAElFTkSuQmCC",
      "text/plain": [
       "Plot with title “Histogram of simwork(thetatry, 1)”"
>>>>>>> e5ba577bf547b7afa297ead8817a118bbf17a5f3
      ]
     },
     "metadata": {},
     "output_type": "display_data"
    }
   ],
   "source": [
    "simwork <- function(theta,sim){\n",
    "    hours <- rep(0,n) # vecteur de zéros qui va contenir les heures travaillées simulées\n",
    "    alpha <- exp(as.numeric(Xmat%*%matrix(theta[1:k],k,1))) # simulation des préférences alpha pour chaque individu\n",
    "    for (i in 1:n){\n",
    "      u <- umarginal(i,lincr,alpha,theta)[[3]]+as.numeric(erreur[[sim]][i,])*exp(theta[k+1]) # utilité pour chaque niveau d'heures travaillées\n",
    "      h <- (which(u==max(u))-1)*lincr # heures travaillées qui maximisent l'utilité\n",
    "      hours[i] <- h # conserve dans le vecteur\n",
    "    }\n",
    "    return(hours)\n",
    "}\n",
    "hist(simwork(thetatry,1))"
   ]
  },
  {
   "cell_type": "markdown",
   "metadata": {},
   "source": [
    "Notre modèle est donc loins d'être parfait. Il peut être amélioré en ajustant notre spécification des préférences, i.e. en changeant l'expression:\n",
    "\n",
    "$$\\ln(\\alpha_i)=\\mathbf{x}_i\\theta,$$\n",
    "\n",
    "ou plus généralement en supposant une autre forme de fonction d'utilité. Il y a de nombreuses possibilités... à vous de jouer !\n",
    "\n",
    "Pour l'instant, la valeur estimée de $\\theta$ nous donne une distribution des heures travaillées, ce qui nous permet de calculer les taxes, le bien-être et beaucoup d'autre variables."
   ]
  },
  {
   "cell_type": "code",
<<<<<<< HEAD
   "execution_count": 31,
=======
   "execution_count": 23,
>>>>>>> e5ba577bf547b7afa297ead8817a118bbf17a5f3
   "metadata": {},
   "outputs": [
    {
     "data": {
      "text/plain": [
       " heures travaillées    utilité       revenu brut     taxes et transferts\n",
<<<<<<< HEAD
       " Min.   : 250       Min.   :16.04   Min.   :  4289   Min.   :    79.27  \n",
       " 1st Qu.:1669       1st Qu.:17.98   1st Qu.: 30393   1st Qu.:  5197.30  \n",
       " Median :2000       Median :18.51   Median : 46374   Median : 10062.49  \n",
       " Mean   :2009       Mean   :18.55   Mean   : 54779   Mean   : 14271.96  \n",
       " 3rd Qu.:2375       3rd Qu.:19.15   3rd Qu.: 70443   3rd Qu.: 19183.06  \n",
       " Max.   :3925       Max.   :20.66   Max.   :257920   Max.   :110493.75  "
=======
       " Min.   :   0       Min.   :15.96   Min.   :     0   Min.   :-7776      \n",
       " 1st Qu.:1250       1st Qu.:17.83   1st Qu.: 24000   1st Qu.: 3319      \n",
       " Median :2000       Median :18.32   Median : 40000   Median : 8020      \n",
       " Mean   :1800       Mean   :18.39   Mean   : 45528   Mean   :10567      \n",
       " 3rd Qu.:2250       3rd Qu.:18.97   3rd Qu.: 61234   3rd Qu.:15714      \n",
       " Max.   :4000       Max.   :20.34   Max.   :210000   Max.   :84948      "
>>>>>>> e5ba577bf547b7afa297ead8817a118bbf17a5f3
      ]
     },
     "metadata": {},
     "output_type": "display_data"
    }
   ],
   "source": [
    "makestats <- function(theta){\n",
    "   stats_var <- matrix(0,n,4)\n",
    "   for (sim in 1:nsim){\n",
    "     h <- simwork(theta,sim)\n",
    "     inc <- h*wage\n",
    "     t <- sapply(inc,function(x) itax(x)[1])\n",
    "     alpha <- exp(as.numeric(Xmat%*%matrix(theta[1:k],k,1)))\n",
    "     u <- sapply(1:n, function(i) Utilite(i,h[i],alpha,theta))\n",
    "     stats_var[,1] <- stats_var[,1] + (sort(h)/nsim)\n",
    "     stats_var[,2] <- stats_var[,2] +(sort(u)/nsim)\n",
    "     stats_var[,3] <- stats_var[,3] +(sort(inc)/nsim)\n",
    "     stats_var[,4] <- stats_var[,4] +(sort(t)/nsim)\n",
    "   }\n",
    "   return(stats_var)\n",
    "}\n",
    "matstats <- makestats(thetatry)\n",
    "colnames(matstats) <- c(\"heures travaillées\",\"utilité\",\"revenu brut\",\"taxes et transferts\")\n",
    "summary(matstats)"
   ]
  },
  {
   "cell_type": "markdown",
   "metadata": {},
   "source": [
    "Cela nous donne donc des données intéressantes à comparer. Vous pouvez aussi naturellement vous intéresser à d'autres variables comme par exemple l'indice de Gini. Faites par contre attention d'utiliser correctement les poids échantillonaux lorsque vous travaillez avec des variables globales!"
   ]
  },
  {
   "cell_type": "markdown",
   "metadata": {},
   "source": [
    "## Impact de réforme"
   ]
  },
  {
   "cell_type": "markdown",
   "metadata": {},
   "source": [
    "On a donc une valeur de $\\theta$ qui permet de répliquer les moments observés dans les données et de donner quelques statistiques descriptives de l'économie simulée. On peut donc maintenant commencer à faire des analyses de réformes. À titre d'exemple, ici, enlevons le programme d'aide sociale."
   ]
  },
  {
   "cell_type": "code",
<<<<<<< HEAD
   "execution_count": 20,
=======
   "execution_count": 24,
>>>>>>> e5ba577bf547b7afa297ead8817a118bbf17a5f3
   "metadata": {},
   "outputs": [],
   "source": [
    "as <- 0"
   ]
  },
  {
   "cell_type": "markdown",
   "metadata": {},
   "source": [
    "On observe donc la modification suivante aux TME:"
   ]
  },
  {
   "cell_type": "code",
<<<<<<< HEAD
   "execution_count": 21,
=======
   "execution_count": 25,
>>>>>>> e5ba577bf547b7afa297ead8817a118bbf17a5f3
   "metadata": {},
   "outputs": [
    {
     "data": {
<<<<<<< HEAD
      "image/png": "iVBORw0KGgoAAAANSUhEUgAAA0gAAANICAMAAADKOT/pAAAAMFBMVEUAAABNTU1oaGh8fHyM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\nAABJRU5ErkJggg==",
=======
      "image/png": "iVBORw0KGgoAAAANSUhEUgAAA0gAAANICAMAAADKOT/pAAAC/VBMVEUAAAABAQECAgIDAwME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\nBP4XgnwSIf9eVdMAAAAASUVORK5CYII=",
>>>>>>> e5ba577bf547b7afa297ead8817a118bbf17a5f3
      "text/plain": [
       "plot without title"
      ]
     },
     "metadata": {},
     "output_type": "display_data"
    }
   ],
   "source": [
    "outtme <- tme(100,250000)"
   ]
  },
  {
   "cell_type": "markdown",
   "metadata": {},
   "source": [
    "On peut donc utiliser le modèle pour voir les changements anticipés sur les valeurs des moments."
   ]
  },
  {
   "cell_type": "code",
<<<<<<< HEAD
   "execution_count": 22,
=======
   "execution_count": 26,
>>>>>>> e5ba577bf547b7afa297ead8817a118bbf17a5f3
   "metadata": {},
   "outputs": [
    {
     "name": "stdout",
     "output_type": "stream",
     "text": [
<<<<<<< HEAD
      "[1] 2.007261e+03 1.113652e+04 9.934861e+02 7.640257e+03 7.212621e+02\n",
      "[6] 3.327551e-01 0.000000e+00\n"
=======
      "[1] 1.981067e+03 1.174755e+04 9.551935e+02 7.181013e+03 7.004661e+02\n",
      "[6] 3.530696e-01 0.000000e+00\n"
>>>>>>> e5ba577bf547b7afa297ead8817a118bbf17a5f3
     ]
    }
   ],
   "source": [
    "print(simhours(thetatry))"
   ]
  },
  {
   "cell_type": "markdown",
   "metadata": {},
   "source": [
    "On peut aussi voir les autres statistiques prédites:"
   ]
  },
  {
   "cell_type": "code",
<<<<<<< HEAD
   "execution_count": 23,
=======
   "execution_count": 27,
>>>>>>> e5ba577bf547b7afa297ead8817a118bbf17a5f3
   "metadata": {},
   "outputs": [
    {
     "data": {
      "text/plain": [
       " heures travaillées    utilité       revenu brut     taxes et transferts\n",
<<<<<<< HEAD
       " Min.   : 250       Min.   :16.12   Min.   :  3375   Min.   :    62.37  \n",
       " 1st Qu.:1500       1st Qu.:17.95   1st Qu.: 29453   1st Qu.:  4921.09  \n",
       " Median :2000       Median :18.48   Median : 46958   Median : 10275.01  \n",
       " Mean   :2023       Mean   :18.52   Mean   : 55236   Mean   : 14448.50  \n",
       " 3rd Qu.:2500       3rd Qu.:19.12   3rd Qu.: 73605   3rd Qu.: 20374.24  \n",
       " Max.   :4000       Max.   :20.67   Max.   :238320   Max.   :100044.99  "
=======
       " Min.   : 250       Min.   :15.96   Min.   :  2812   Min.   :   51.98   \n",
       " 1st Qu.:1500       1st Qu.:17.83   1st Qu.: 28000   1st Qu.: 4494.37   \n",
       " Median :2000       Median :18.34   Median : 41250   Median : 8386.96   \n",
       " Mean   :1979       Mean   :18.40   Mean   : 48852   Mean   :12017.29   \n",
       " 3rd Qu.:2500       3rd Qu.:18.99   3rd Qu.: 62500   3rd Qu.:16191.21   \n",
       " Max.   :4000       Max.   :20.34   Max.   :210000   Max.   :84947.60   "
>>>>>>> e5ba577bf547b7afa297ead8817a118bbf17a5f3
      ]
     },
     "metadata": {},
     "output_type": "display_data"
    }
   ],
   "source": [
    "matstats_noas <- makestats(thetatry)\n",
    "colnames(matstats_noas) <- c(\"heures travaillées\",\"utilité\",\"revenu brut\",\"taxes et transferts\")\n",
    "summary(matstats_noas)"
   ]
  },
  {
   "cell_type": "markdown",
   "metadata": {},
   "source": [
    "En particulier, ici on voit que tous se sont mis à travailler. C'est une conséquence directe de l'hypothèse sur l'utilité: sans aide sociale, ne pas travailler implique une consommation nulle et une utilité de -Infini. Les individus sont donc prêts à tout pour arriver à consommer. Remettons l'histograme des heures travaillées (simulées) sur le modèle avec assurance emploi:"
   ]
  },
  {
   "cell_type": "code",
<<<<<<< HEAD
   "execution_count": 24,
=======
   "execution_count": 28,
>>>>>>> e5ba577bf547b7afa297ead8817a118bbf17a5f3
   "metadata": {},
   "outputs": [
    {
     "data": {
<<<<<<< HEAD
      "image/png": "iVBORw0KGgoAAAANSUhEUgAAA0gAAANICAMAAADKOT/pAAAAMFBMVEUAAABNTU1oaGh8fHyM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\nCTBASIABQgIMEBJggJAAA4QEGPgPAa5yPgVC1OkAAAAASUVORK5CYII=",
      "text/plain": [
       "Plot with title \"Histogram of matstats[, 1]\""
=======
      "image/png": "iVBORw0KGgoAAAANSUhEUgAAA0gAAANICAMAAADKOT/pAAAC+lBMVEUAAAABAQECAgIDAwME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",
      "text/plain": [
       "Plot with title “Histogram of matstats[, 1]”"
>>>>>>> e5ba577bf547b7afa297ead8817a118bbf17a5f3
      ]
     },
     "metadata": {},
     "output_type": "display_data"
    }
   ],
   "source": [
    "hist(matstats[,1])"
   ]
  },
  {
   "cell_type": "code",
<<<<<<< HEAD
   "execution_count": 25,
=======
   "execution_count": 29,
>>>>>>> e5ba577bf547b7afa297ead8817a118bbf17a5f3
   "metadata": {},
   "outputs": [
    {
     "data": {
<<<<<<< HEAD
      "image/png": "iVBORw0KGgoAAAANSUhEUgAAA0gAAANICAMAAADKOT/pAAAAMFBMVEUAAABNTU1oaGh8fHyM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",
      "text/plain": [
       "Plot with title \"Histogram of matstats_noas[, 1]\""
=======
      "image/png": "iVBORw0KGgoAAAANSUhEUgAAA0gAAANICAMAAADKOT/pAAAC+lBMVEUAAAABAQECAgIDAwME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\nrkJggg==",
      "text/plain": [
       "Plot with title “Histogram of matstats_noas[, 1]”"
>>>>>>> e5ba577bf547b7afa297ead8817a118bbf17a5f3
      ]
     },
     "metadata": {},
     "output_type": "display_data"
    }
   ],
   "source": [
    "hist(matstats_noas[,1])"
   ]
  },
  {
   "cell_type": "code",
   "execution_count": null,
   "metadata": {},
   "outputs": [],
   "source": []
  }
 ],
 "metadata": {
  "kernelspec": {
<<<<<<< HEAD
   "display_name": "R",
   "language": "R",
   "name": "ir"
  },
  "language_info": {
   "codemirror_mode": "r",
   "file_extension": ".r",
   "mimetype": "text/x-r-source",
   "name": "R",
   "pygments_lexer": "r",
   "version": "3.6.1"
=======
   "display_name": "Python 3",
   "language": "python",
   "name": "python3"
  },
  "language_info": {
   "codemirror_mode": {
    "name": "ipython",
    "version": 3
   },
   "file_extension": ".py",
   "mimetype": "text/x-python",
   "name": "python",
   "nbconvert_exporter": "python",
   "pygments_lexer": "ipython3",
   "version": "3.7.6"
>>>>>>> e5ba577bf547b7afa297ead8817a118bbf17a5f3
  }
 },
 "nbformat": 4,
 "nbformat_minor": 2
}
